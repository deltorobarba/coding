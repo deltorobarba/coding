{
  "nbformat": 4,
  "nbformat_minor": 0,
  "metadata": {
    "colab": {
      "provenance": [],
      "authorship_tag": "ABX9TyNj0se10VOiz6uwt+sh8V+U",
      "include_colab_link": true
    },
    "kernelspec": {
      "name": "python3",
      "display_name": "Python 3"
    },
    "language_info": {
      "name": "python"
    }
  },
  "cells": [
    {
      "cell_type": "markdown",
      "metadata": {
        "id": "view-in-github",
        "colab_type": "text"
      },
      "source": [
        "<a href=\"https://colab.research.google.com/github/deltorobarba/machinelearning/blob/main/multimodal_tuning.ipynb\" target=\"_parent\"><img src=\"https://colab.research.google.com/assets/colab-badge.svg\" alt=\"Open In Colab\"/></a>"
      ]
    },
    {
      "cell_type": "markdown",
      "source": [
        "# **Multimodal Tuning**"
      ],
      "metadata": {
        "id": "mhyPEbAh22xN"
      }
    },
    {
      "cell_type": "markdown",
      "source": [
        "https://cloud.google.com/vertex-ai/generative-ai/docs/models/gemini-supervised-tuning\n",
        "\n",
        "We are excited to announce the general availability of tuning for Gemini 1.5 Pro 002 and Gemini 1.5 Flash 002. Users can now customize Gemini models for text, image, document and audio data. Multimodal tuning is first time available on Vertex AI, built on top of secure tuning infra TuneX. It is a key competitive edge to help customers with multimodal use cases succeed."
      ],
      "metadata": {
        "id": "gc_J9riY2-vj"
      }
    },
    {
      "cell_type": "markdown",
      "source": [
        "![sciences](https://raw.githubusercontent.com/deltorobarba/repo/master/sciences_1824.png)"
      ],
      "metadata": {
        "id": "dZ8z3e-m31O5"
      }
    },
    {
      "cell_type": "markdown",
      "source": [
        "Example notebooks: https://colab.google/notebooks/"
      ],
      "metadata": {
        "id": "8q7rjFXl2zIz"
      }
    },
    {
      "cell_type": "code",
      "execution_count": null,
      "metadata": {
        "id": "BDEOphcF2vGK"
      },
      "outputs": [],
      "source": []
    }
  ]
}