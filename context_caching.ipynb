{
  "cells": [
    {
      "cell_type": "markdown",
      "source": [
        "## **Context Cashing**"
      ],
      "metadata": {
        "id": "oRLH7fIieU5c"
      },
      "id": "oRLH7fIieU5c"
    },
    {
      "cell_type": "markdown",
      "source": [
        "\n",
        "https://medium.com/google-cloud/vertex-ai-context-caching-with-gemini-189117418b67"
      ],
      "metadata": {
        "id": "reFYVLHrS4j3"
      },
      "id": "reFYVLHrS4j3"
    },
    {
      "cell_type": "markdown",
      "source": [
        "https://cloud.google.com/vertex-ai/generative-ai/docs/context-cache/context-cache-create"
      ],
      "metadata": {
        "id": "I9QWZAhWeTyv"
      },
      "id": "I9QWZAhWeTyv"
    },
    {
      "cell_type": "code",
      "id": "vb97nfI8DYKfo8MfjNsEap2z",
      "metadata": {
        "tags": [],
        "id": "vb97nfI8DYKfo8MfjNsEap2z"
      },
      "source": [
        "import vertexai"
      ],
      "execution_count": null,
      "outputs": []
    },
    {
      "cell_type": "code",
      "source": [
        "project_id = \"lunar-352813\"\n",
        "\n",
        "vertexai.init(project=project_id, location=\"us-central1\")\n",
        "\n",
        "system_instruction = \"\"\"\n",
        "\"\"\""
      ],
      "metadata": {
        "id": "tPGfOkWkztb-"
      },
      "id": "tPGfOkWkztb-",
      "execution_count": null,
      "outputs": []
    },
    {
      "cell_type": "code",
      "source": [
        "from vertexai.generative_models import Part\n",
        "\n",
        "contents = [\n",
        "    Part.from_uri(\n",
        "        \"gs://bamf-2024/bamf_mexico.mp4\",\n",
        "        mime_type=\"video/mp4\",\n",
        "    ),\n",
        "    Part.from_uri(\n",
        "        \"gs://bamf-2024/bamf_ukraine.mp4\",\n",
        "        mime_type=\"video/mp4\",\n",
        "    ),\n",
        "]"
      ],
      "metadata": {
        "id": "EHeInDUbzvii"
      },
      "id": "EHeInDUbzvii",
      "execution_count": null,
      "outputs": []
    },
    {
      "cell_type": "code",
      "source": [
        "import datetime\n",
        "from vertexai.preview import caching\n",
        "\n",
        "cached_content = caching.CachedContent.create(\n",
        "    model_name=\"gemini-1.5-pro-001\",\n",
        "    system_instruction=system_instruction,\n",
        "    contents=contents,\n",
        "    ttl=datetime.timedelta(minutes=60),\n",
        ")"
      ],
      "metadata": {
        "id": "N7PBJRMDz0uh"
      },
      "id": "N7PBJRMDz0uh",
      "execution_count": null,
      "outputs": []
    },
    {
      "cell_type": "code",
      "source": [
        "from vertexai.preview.generative_models import GenerativeModel\n",
        "model = GenerativeModel.from_cached_content(cached_content=cached_content)"
      ],
      "metadata": {
        "id": "4jtS2zNOz3Ui"
      },
      "id": "4jtS2zNOz3Ui",
      "execution_count": null,
      "outputs": []
    },
    {
      "cell_type": "code",
      "source": [
        "gchat = model.start_chat()"
      ],
      "metadata": {
        "id": "cplD4g-jYDCI"
      },
      "id": "cplD4g-jYDCI",
      "execution_count": null,
      "outputs": []
    },
    {
      "cell_type": "code",
      "source": [
        "from vertexai.generative_models import ChatSession\n",
        "def get_chat_response(chat: ChatSession, prompt: str) -> str:\n",
        "    text_response = []\n",
        "    responses = chat.send_message(prompt, stream=True)\n",
        "    for chunk in responses:\n",
        "        text_response.append(chunk.text)\n",
        "    return \"\".join(text_response)"
      ],
      "metadata": {
        "id": "q_ZqOJHNYJqL"
      },
      "id": "q_ZqOJHNYJqL",
      "execution_count": null,
      "outputs": []
    },
    {
      "cell_type": "code",
      "source": [
        "prompt = \"Wie heißen die Antragsteller und aus welchen Ländern kommen sie?\"\n",
        "print(get_chat_response(gchat, prompt))"
      ],
      "metadata": {
        "colab": {
          "base_uri": "https://localhost:8080/"
        },
        "id": "PSM0TWWkYPFv",
        "outputId": "d5fd39f8-e337-49ec-c09a-3fbfa320c9fa"
      },
      "id": "PSM0TWWkYPFv",
      "execution_count": null,
      "outputs": [
        {
          "output_type": "stream",
          "name": "stdout",
          "text": [
            "Die erste Antragstellerin heißt Gabriela und kommt aus Mexiko. Die zweite Antragstellerin heißt Anastasia und kommt aus der Ukraine. \n",
            "\n"
          ]
        }
      ]
    },
    {
      "cell_type": "code",
      "source": [
        "prompt = \"Wann wurden die Antragstellerinnen geboren?\"\n",
        "print(get_chat_response(gchat, prompt))"
      ],
      "metadata": {
        "colab": {
          "base_uri": "https://localhost:8080/"
        },
        "id": "wnfi-XuKgRmG",
        "outputId": "ba9102aa-9150-4dbd-9544-336e09047201"
      },
      "id": "wnfi-XuKgRmG",
      "execution_count": null,
      "outputs": [
        {
          "output_type": "stream",
          "name": "stdout",
          "text": [
            "Gabriela wurde am 20. November 1989 geboren. Anastasia wurde am 27. November 1991 geboren. \n",
            "\n"
          ]
        }
      ]
    },
    {
      "cell_type": "code",
      "source": [
        "prompt = \"Ist eine der Antragstellerinnen jüdisch?\"\n",
        "print(get_chat_response(gchat, prompt))"
      ],
      "metadata": {
        "colab": {
          "base_uri": "https://localhost:8080/"
        },
        "id": "uzSxxOLGgqTG",
        "outputId": "568347d6-e45a-4761-8e68-5c757a43966a"
      },
      "id": "uzSxxOLGgqTG",
      "execution_count": null,
      "outputs": [
        {
          "output_type": "stream",
          "name": "stdout",
          "text": [
            "Ja, Gabriela ist jüdischer Abstammung. Anastasia ist es nicht. \n",
            "\n"
          ]
        }
      ]
    },
    {
      "cell_type": "code",
      "source": [
        "prompt = \"Sind die Antragstellerinnen verheiratet?\"\n",
        "print(get_chat_response(gchat, prompt))"
      ],
      "metadata": {
        "colab": {
          "base_uri": "https://localhost:8080/"
        },
        "id": "8_RFqXHzhB1M",
        "outputId": "8775fdcb-c8ed-47a3-fef4-3c65765483ca"
      },
      "id": "8_RFqXHzhB1M",
      "execution_count": null,
      "outputs": [
        {
          "output_type": "stream",
          "name": "stdout",
          "text": [
            "Anastasia ist nicht verheiratet und hat keine Kinder. Über Gabrielas Familienstand ist in dem Text nichts explizit gesagt. Allerdings erwähnt sie, dass sie einen zweijährigen Sohn hat. \n",
            "\n",
            "\n"
          ]
        }
      ]
    },
    {
      "cell_type": "markdown",
      "source": [
        "## **Appendix**"
      ],
      "metadata": {
        "id": "vy1K0wIlgEmG"
      },
      "id": "vy1K0wIlgEmG"
    },
    {
      "cell_type": "code",
      "source": [
        "#!pip install mesop"
      ],
      "metadata": {
        "id": "Tf9uYd3R35X4",
        "colab": {
          "base_uri": "https://localhost:8080/"
        },
        "collapsed": true,
        "outputId": "79482926-ba88-4d3a-e924-756a528864df"
      },
      "id": "Tf9uYd3R35X4",
      "execution_count": null,
      "outputs": [
        {
          "output_type": "stream",
          "name": "stdout",
          "text": [
            "Requirement already satisfied: mesop in /usr/local/lib/python3.10/dist-packages (0.12.3)\n",
            "Requirement already satisfied: absl-py in /usr/local/lib/python3.10/dist-packages (from mesop) (1.4.0)\n",
            "Requirement already satisfied: deepdiff==6.* in /usr/local/lib/python3.10/dist-packages (from mesop) (6.7.1)\n",
            "Requirement already satisfied: flask in /usr/local/lib/python3.10/dist-packages (from mesop) (2.2.5)\n",
            "Requirement already satisfied: markdown in /usr/local/lib/python3.10/dist-packages (from mesop) (3.7)\n",
            "Requirement already satisfied: msgpack in /usr/local/lib/python3.10/dist-packages (from mesop) (1.0.8)\n",
            "Requirement already satisfied: protobuf in /usr/local/lib/python3.10/dist-packages (from mesop) (3.20.3)\n",
            "Requirement already satisfied: pydantic in /usr/local/lib/python3.10/dist-packages (from mesop) (1.10.18)\n",
            "Requirement already satisfied: pygments in /usr/local/lib/python3.10/dist-packages (from mesop) (2.16.1)\n",
            "Requirement already satisfied: python-dotenv in /usr/local/lib/python3.10/dist-packages (from mesop) (1.0.1)\n",
            "Requirement already satisfied: watchdog in /usr/local/lib/python3.10/dist-packages (from mesop) (5.0.2)\n",
            "Requirement already satisfied: ordered-set<4.2.0,>=4.0.2 in /usr/local/lib/python3.10/dist-packages (from deepdiff==6.*->mesop) (4.1.0)\n",
            "Requirement already satisfied: Werkzeug>=2.2.2 in /usr/local/lib/python3.10/dist-packages (from flask->mesop) (3.0.4)\n",
            "Requirement already satisfied: Jinja2>=3.0 in /usr/local/lib/python3.10/dist-packages (from flask->mesop) (3.1.4)\n",
            "Requirement already satisfied: itsdangerous>=2.0 in /usr/local/lib/python3.10/dist-packages (from flask->mesop) (2.2.0)\n",
            "Requirement already satisfied: click>=8.0 in /usr/local/lib/python3.10/dist-packages (from flask->mesop) (8.1.7)\n",
            "Requirement already satisfied: typing-extensions>=4.2.0 in /usr/local/lib/python3.10/dist-packages (from pydantic->mesop) (4.12.2)\n",
            "Requirement already satisfied: MarkupSafe>=2.0 in /usr/local/lib/python3.10/dist-packages (from Jinja2>=3.0->flask->mesop) (2.1.5)\n"
          ]
        }
      ]
    },
    {
      "cell_type": "code",
      "source": [
        "#import mesop as me\n",
        "#import mesop.labs as mel\n",
        "\n",
        "#me.colab_run()"
      ],
      "metadata": {
        "colab": {
          "base_uri": "https://localhost:8080/"
        },
        "id": "qWaqjVis3vyh",
        "outputId": "602ca4e3-b3a1-4572-a99b-3e899e0735aa"
      },
      "id": "qWaqjVis3vyh",
      "execution_count": null,
      "outputs": [
        {
          "output_type": "stream",
          "name": "stdout",
          "text": [
            "\n",
            "\u001b[32mRunning server on: http://localhost:32123\u001b[0m\n",
            " * Serving Flask app 'mesop.server.server'\n",
            " * Debug mode: off\n"
          ]
        },
        {
          "output_type": "stream",
          "name": "stderr",
          "text": [
            "INFO:werkzeug:\u001b[31m\u001b[1mWARNING: This is a development server. Do not use it in a production deployment. Use a production WSGI server instead.\u001b[0m\n",
            " * Running on all addresses (::)\n",
            " * Running on http://[::1]:32123\n",
            " * Running on http://[::1]:32123\n",
            "INFO:werkzeug:\u001b[33mPress CTRL+C to quit\u001b[0m\n"
          ]
        }
      ]
    },
    {
      "cell_type": "code",
      "source": [
        "#def send_message(message):\n",
        "  resp = get_chat_response(gchat, message)\n",
        "  return resp"
      ],
      "metadata": {
        "id": "hTMjwER-38O0"
      },
      "id": "hTMjwER-38O0",
      "execution_count": null,
      "outputs": []
    },
    {
      "cell_type": "code",
      "source": [
        "#@me.page(path=\"/chat2\")\n",
        "#def chat():\n",
        "  mel.chat(transform)\n",
        "\n",
        "#def transform(prompt: str, history: list[mel.ChatMessage]) -> str:\n",
        "  print(history)\n",
        "  return send_message(prompt)"
      ],
      "metadata": {
        "id": "XFOLy_GL3zXx"
      },
      "id": "XFOLy_GL3zXx",
      "execution_count": null,
      "outputs": []
    },
    {
      "cell_type": "code",
      "source": [
        "#me.colab_show(path=\"/chat2\")"
      ],
      "metadata": {
        "colab": {
          "base_uri": "https://localhost:8080/",
          "height": 421
        },
        "id": "OGyBk3mb33Bl",
        "outputId": "6119c3d6-f6a3-47c7-ffca-7b7eec73026f"
      },
      "id": "OGyBk3mb33Bl",
      "execution_count": null,
      "outputs": [
        {
          "output_type": "display_data",
          "data": {
            "text/plain": [
              "<IPython.core.display.Javascript object>"
            ],
            "application/javascript": [
              "(async (port, path, width, height, cache, element) => {\n",
              "    if (!google.colab.kernel.accessAllowed && !cache) {\n",
              "      return;\n",
              "    }\n",
              "    element.appendChild(document.createTextNode(''));\n",
              "    const url = await google.colab.kernel.proxyPort(port, {cache});\n",
              "    const iframe = document.createElement('iframe');\n",
              "    iframe.src = new URL(path, url).toString();\n",
              "    iframe.height = height;\n",
              "    iframe.width = width;\n",
              "    iframe.style.border = 0;\n",
              "    iframe.allow = [\n",
              "        'accelerometer',\n",
              "        'autoplay',\n",
              "        'camera',\n",
              "        'clipboard-read',\n",
              "        'clipboard-write',\n",
              "        'gyroscope',\n",
              "        'magnetometer',\n",
              "        'microphone',\n",
              "        'serial',\n",
              "        'usb',\n",
              "        'xr-spatial-tracking',\n",
              "    ].join('; ');\n",
              "    element.appendChild(iframe);\n",
              "  })(32123, \"/chat2\", \"100%\", \"400\", false, window.element)"
            ]
          },
          "metadata": {}
        }
      ]
    }
  ],
  "metadata": {
    "kernelspec": {
      "display_name": "Python 3",
      "language": "python",
      "name": "python3"
    },
    "language_info": {
      "codemirror_mode": {
        "name": "ipython",
        "version": 3
      },
      "file_extension": ".py",
      "mimetype": "text/x-python",
      "name": "python",
      "nbconvert_exporter": "python",
      "pygments_lexer": "ipython3",
      "version": "3.10.10"
    },
    "colab": {
      "provenance": [],
      "name": "contextcaching.ipynb",
      "collapsed_sections": [
        "vy1K0wIlgEmG"
      ]
    }
  },
  "nbformat": 4,
  "nbformat_minor": 5
}