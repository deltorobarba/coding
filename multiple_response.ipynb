{
  "cells": [
    {
      "cell_type": "markdown",
      "metadata": {
        "id": "Hny4I-ODTIS6"
      },
      "source": [
        "# Using Multiple Response\n"
      ]
    },
    {
      "cell_type": "markdown",
      "source": [
        "https://cloud.google.com/vertex-ai/generative-ai/docs/release-notes#August_09_2024"
      ],
      "metadata": {
        "id": "l1iqoo2EQhIG"
      }
    },
    {
      "cell_type": "markdown",
      "source": [
        "https://cloud.google.com/vertex-ai/generative-ai/docs/model-reference/inference#python"
      ],
      "metadata": {
        "id": "SxuULFSCQfOP"
      }
    },
    {
      "cell_type": "markdown",
      "metadata": {
        "id": "PwFMpIMrTV_4"
      },
      "source": [
        "## Install Vertex AI SDK for Python"
      ]
    },
    {
      "cell_type": "code",
      "execution_count": null,
      "metadata": {
        "id": "WYUu8VMdJs3V",
        "colab": {
          "base_uri": "https://localhost:8080/"
        },
        "outputId": "dd016dd3-94f7-47cd-cb76-5808cebbd1b5"
      },
      "outputs": [
        {
          "output_type": "stream",
          "name": "stdout",
          "text": [
            "\u001b[?25l   \u001b[90m━━━━━━━━━━━━━━━━━━━━━━━━━━━━━━━━━━━━━━━━\u001b[0m \u001b[32m0.0/5.2 MB\u001b[0m \u001b[31m?\u001b[0m eta \u001b[36m-:--:--\u001b[0m\r\u001b[2K   \u001b[91m━━━━━━\u001b[0m\u001b[91m╸\u001b[0m\u001b[90m━━━━━━━━━━━━━━━━━━━━━━━━━━━━━━━━━\u001b[0m \u001b[32m0.9/5.2 MB\u001b[0m \u001b[31m26.0 MB/s\u001b[0m eta \u001b[36m0:00:01\u001b[0m\r\u001b[2K   \u001b[91m━━━━━━━━━━━━━━━━\u001b[0m\u001b[90m╺\u001b[0m\u001b[90m━━━━━━━━━━━━━━━━━━━━━━━\u001b[0m \u001b[32m2.1/5.2 MB\u001b[0m \u001b[31m32.4 MB/s\u001b[0m eta \u001b[36m0:00:01\u001b[0m\r\u001b[2K   \u001b[91m━━━━━━━━━━━━━━━━━━━━━━━━\u001b[0m\u001b[91m╸\u001b[0m\u001b[90m━━━━━━━━━━━━━━━\u001b[0m \u001b[32m3.2/5.2 MB\u001b[0m \u001b[31m27.4 MB/s\u001b[0m eta \u001b[36m0:00:01\u001b[0m\r\u001b[2K   \u001b[91m━━━━━━━━━━━━━━━━━━━━━━━━━━━━━━━━━━━\u001b[0m\u001b[90m╺\u001b[0m\u001b[90m━━━━\u001b[0m \u001b[32m4.6/5.2 MB\u001b[0m \u001b[31m29.6 MB/s\u001b[0m eta \u001b[36m0:00:01\u001b[0m\r\u001b[2K   \u001b[91m━━━━━━━━━━━━━━━━━━━━━━━━━━━━━━━━━━━━━━━\u001b[0m\u001b[91m╸\u001b[0m \u001b[32m5.2/5.2 MB\u001b[0m \u001b[31m30.1 MB/s\u001b[0m eta \u001b[36m0:00:01\u001b[0m\r\u001b[2K   \u001b[90m━━━━━━━━━━━━━━━━━━━━━━━━━━━━━━━━━━━━━━━━\u001b[0m \u001b[32m5.2/5.2 MB\u001b[0m \u001b[31m24.0 MB/s\u001b[0m eta \u001b[36m0:00:00\u001b[0m\n",
            "\u001b[?25h\u001b[33m  WARNING: The script tb-gcp-uploader is installed in '/root/.local/bin' which is not on PATH.\n",
            "  Consider adding this directory to PATH or, if you prefer to suppress this warning, use --no-warn-script-location.\u001b[0m\u001b[33m\n",
            "\u001b[0m"
          ]
        }
      ],
      "source": [
        "! pip install --quiet --upgrade --user google-cloud-aiplatform"
      ]
    },
    {
      "cell_type": "markdown",
      "metadata": {
        "id": "ybBXSukZkgjg"
      },
      "source": [
        "## Parameters & Authentication\n",
        "\n",
        "The model names from Vertex AI Gemini have two components:\n",
        "* Model name\n",
        "* Version number\n",
        "\n",
        "For example, `gemini-1.5-pro-001` represent the **001** version of **gemini-1.5-pro** model.\n",
        "\n",
        "We also authenticate Colab and initialize the Vertex AI SDK for Python for your GCP project:"
      ]
    },
    {
      "cell_type": "code",
      "execution_count": null,
      "metadata": {
        "id": "5gUjJ42Nh5kf"
      },
      "outputs": [],
      "source": [
        "# Define project information\n",
        "PROJECT_ID = \"lunar-352813\"  # @param {type:\"string\"}\n",
        "LOCATION = \"us-central1\"  # @param {type:\"string\"}\n",
        "MODEL = \"gemini-experimental\" # @param {type:\"string\"}\n",
        "\n",
        "# Authenticat with Colab\n",
        "from google.colab import auth\n",
        "\n",
        "auth.authenticate_user()\n",
        "\n",
        "# Initialize Vertex AI\n",
        "import vertexai\n",
        "\n",
        "vertexai.init(project=PROJECT_ID, location=LOCATION)\n",
        "\n",
        "def render(markdown_text):\n",
        "  from IPython.display import Markdown\n",
        "  return Markdown(markdown_text)"
      ]
    },
    {
      "cell_type": "markdown",
      "metadata": {
        "id": "i-6H9Ccq9z8-"
      },
      "source": [
        "## Text Generation"
      ]
    },
    {
      "cell_type": "markdown",
      "metadata": {
        "id": "lhfneknwEDHT"
      },
      "source": [
        "### Load the text generation model\n",
        "\n",
        "\n",
        "\n"
      ]
    },
    {
      "cell_type": "code",
      "execution_count": null,
      "metadata": {
        "id": "nEKPNLNL5RhD",
        "colab": {
          "base_uri": "https://localhost:8080/"
        },
        "outputId": "566ec4ae-f4aa-446d-a722-c68fba8a325c"
      },
      "outputs": [
        {
          "output_type": "execute_result",
          "data": {
            "text/plain": [
              "<vertexai.preview.generative_models.GenerativeModel at 0x79af17014700>"
            ]
          },
          "metadata": {},
          "execution_count": 12
        }
      ],
      "source": [
        "from vertexai.preview.generative_models import GenerativeModel, GenerationConfig\n",
        "\n",
        "GenerativeModel(MODEL)"
      ]
    },
    {
      "cell_type": "markdown",
      "metadata": {
        "id": "qLZagQ8NUDiB"
      },
      "source": [
        "### Generate text without a seed (but temperature=0)\n",
        "\n",
        "The `generate_content` function is used to generate text. We set the temperature to `0` in the generation config.\n",
        "\n",
        "All you need to input is a simple text prompt."
      ]
    },
    {
      "cell_type": "code",
      "execution_count": null,
      "metadata": {
        "colab": {
          "base_uri": "https://localhost:8080/",
          "height": 244
        },
        "id": "0GYBwQuciCco",
        "outputId": "1081322b-857b-45a0-8412-a2b25ab36efc"
      },
      "outputs": [
        {
          "output_type": "execute_result",
          "data": {
            "text/plain": [
              "<IPython.core.display.Markdown object>"
            ],
            "text/markdown": "There's no single answer to how strong a frog's legs are! Here's why:\n\n* **Frog Variety:** There are thousands of frog species, each with different sizes and jumping abilities. A tiny tree frog's jump is nothing compared to the leap of a bullfrog!\n* **Jump Purpose:** A frog might make a short hop to catch an insect or a powerful leap to escape danger. The strength used varies greatly.\n* **Measuring Strength:**  It's difficult to measure the exact force of a frog's jump. Scientists often look at jump distance relative to body size to compare jumping ability.\n\n**Instead of focusing on absolute strength, it's more helpful to appreciate the amazing design of a frog's legs:**\n\n* **Powerful Muscles:** Frogs have incredibly strong leg muscles designed for explosive jumps.\n* **Leverage:** Their long hind legs act like levers, multiplying the force their muscles generate.\n* **Elastic Tendons:** Special tendons in their legs store energy like springs, releasing it during a jump for extra power.\n\nLet me know if you'd like to know more about the mechanics of a frog's jump! \n"
          },
          "metadata": {},
          "execution_count": 13
        }
      ],
      "source": [
        "prompt = \"When a frog jumps over a river, how strong are its legs?\"\n",
        "generation_config = GenerationConfig(temperature=0)\n",
        "gemini_model = GenerativeModel(MODEL,\n",
        "                               generation_config=generation_config)\n",
        "\n",
        "response = gemini_model.generate_content(prompt)\n",
        "\n",
        "render(response.candidates[0].content.parts[0].text)"
      ]
    },
    {
      "cell_type": "markdown",
      "source": [
        "### Generate text with a seed (and temperature=0)"
      ],
      "metadata": {
        "id": "QapmznXjeSc3"
      }
    },
    {
      "cell_type": "code",
      "source": [
        "prompt = \"When a frog jumps over a river, how strong are its legs?\"\n",
        "generation_config = GenerationConfig(temperature=0, seed=1234)\n",
        "gemini_model = GenerativeModel(MODEL,\n",
        "                               generation_config=generation_config)\n",
        "\n",
        "response = gemini_model.generate_content(prompt)\n",
        "\n",
        "render(response.candidates[0].content.parts[0].text)"
      ],
      "metadata": {
        "colab": {
          "base_uri": "https://localhost:8080/",
          "height": 192
        },
        "id": "SqTjg5SmdMiw",
        "outputId": "2a3ff388-7ca9-42bf-9992-ae62a0790e27"
      },
      "execution_count": null,
      "outputs": [
        {
          "output_type": "execute_result",
          "data": {
            "text/plain": [
              "<IPython.core.display.Markdown object>"
            ],
            "text/markdown": "There's no single answer to how strong a frog's legs are! Here's why:\n\n* **Frog Variety:** There are thousands of frog species, from tiny dart frogs to giant bullfrogs. Their leg strength varies hugely.\n* **Jump Distance:** A frog jumping a short distance needs less leg power than one leaping across a wide river. \n* **Body Size and Weight:**  Bigger, heavier frogs need stronger legs to propel themselves the same distance as a smaller frog.\n\n**Instead of absolute strength, think about it this way:**\n\n* **Amazing Power-to-Weight Ratio:** Frogs are incredibly strong for their size. Their muscles and skeletal structure are designed for powerful jumps.\n* **Efficiency:**  Frogs store energy in their tendons, like a spring, allowing for explosive jumps that are more efficient than if they relied solely on muscle.\n\n**To learn more about a specific frog species and its jumping abilities, you'd need to research that particular type of frog.** \n"
          },
          "metadata": {},
          "execution_count": 18
        }
      ]
    },
    {
      "cell_type": "code",
      "source": [],
      "metadata": {
        "id": "JsOo83Kwfhpg"
      },
      "execution_count": null,
      "outputs": []
    }
  ],
  "metadata": {
    "colab": {
      "provenance": [],
      "name": "multiple_response.ipynb"
    },
    "environment": {
      "kernel": "python3",
      "name": "tf2-gpu.2-11.m110",
      "type": "gcloud",
      "uri": "gcr.io/deeplearning-platform-release/tf2-gpu.2-11:m110"
    },
    "kernelspec": {
      "display_name": "Python 3",
      "language": "python",
      "name": "python3"
    },
    "language_info": {
      "codemirror_mode": {
        "name": "ipython",
        "version": 3
      },
      "file_extension": ".py",
      "mimetype": "text/x-python",
      "name": "python",
      "nbconvert_exporter": "python",
      "pygments_lexer": "ipython3",
      "version": "3.10.12"
    }
  },
  "nbformat": 4,
  "nbformat_minor": 0
}