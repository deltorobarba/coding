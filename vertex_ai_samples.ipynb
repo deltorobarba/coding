{
  "nbformat": 4,
  "nbformat_minor": 0,
  "metadata": {
    "colab": {
      "provenance": [],
      "authorship_tag": "ABX9TyOzKjTIw/Qeh0I0eDtwQuaC",
      "include_colab_link": true
    },
    "kernelspec": {
      "name": "python3",
      "display_name": "Python 3"
    },
    "language_info": {
      "name": "python"
    }
  },
  "cells": [
    {
      "cell_type": "markdown",
      "metadata": {
        "id": "view-in-github",
        "colab_type": "text"
      },
      "source": [
        "<a href=\"https://colab.research.google.com/github/deltorobarba/machinelearning/blob/main/vertex_ai_samples.ipynb\" target=\"_parent\"><img src=\"https://colab.research.google.com/assets/colab-badge.svg\" alt=\"Open In Colab\"/></a>"
      ]
    },
    {
      "cell_type": "markdown",
      "source": [
        "https://github.com/GoogleCloudPlatform/vertex-ai-samples?tab=readme-ov-file"
      ],
      "metadata": {
        "id": "YiILiGo1vWho"
      }
    },
    {
      "cell_type": "markdown",
      "source": [
        "https://github.com/GoogleCloudPlatform/generative-ai"
      ],
      "metadata": {
        "id": "daRp8-atvlbY"
      }
    },
    {
      "cell_type": "code",
      "execution_count": null,
      "metadata": {
        "id": "AYa481XUvWK-"
      },
      "outputs": [],
      "source": []
    }
  ]
}