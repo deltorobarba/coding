{
  "nbformat": 4,
  "nbformat_minor": 0,
  "metadata": {
    "colab": {
      "provenance": [],
      "authorship_tag": "ABX9TyNTaldGbiw+ifZTR0/ubznS",
      "include_colab_link": true
    },
    "kernelspec": {
      "name": "python3",
      "display_name": "Python 3"
    },
    "language_info": {
      "name": "python"
    }
  },
  "cells": [
    {
      "cell_type": "markdown",
      "metadata": {
        "id": "view-in-github",
        "colab_type": "text"
      },
      "source": [
        "<a href=\"https://colab.research.google.com/github/deltorobarba/machinelearning/blob/main/llm_training.ipynb\" target=\"_parent\"><img src=\"https://colab.research.google.com/assets/colab-badge.svg\" alt=\"Open In Colab\"/></a>"
      ]
    },
    {
      "cell_type": "markdown",
      "source": [
        "# **Training LLM - Infrastructure AI**"
      ],
      "metadata": {
        "id": "HjMZzWDzNhsS"
      }
    },
    {
      "cell_type": "markdown",
      "source": [
        "https://github.com/gclouduniverse/reproducibility/tree/main/Training/TPU-v5p/Llama2-7B-Maxtext\n",
        "\n",
        "https://github.com/gclouduniverse/reproducibility\n",
        "\n",
        "https://github.com/pytorch-tpu/transformers/blob/alanwaketan/flash_attention/USER_GUIDE.md"
      ],
      "metadata": {
        "id": "HaW4QoetNg4A"
      }
    }
  ]
}