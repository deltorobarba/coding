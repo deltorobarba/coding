{
  "nbformat": 4,
  "nbformat_minor": 0,
  "metadata": {
    "colab": {
      "provenance": [],
      "authorship_tag": "ABX9TyN8QB/Q4d1H25Wv5K66K73P",
      "include_colab_link": true
    },
    "kernelspec": {
      "name": "python3",
      "display_name": "Python 3"
    },
    "language_info": {
      "name": "python"
    }
  },
  "cells": [
    {
      "cell_type": "markdown",
      "metadata": {
        "id": "view-in-github",
        "colab_type": "text"
      },
      "source": [
        "<a href=\"https://colab.research.google.com/github/deltorobarba/machinelearning/blob/main/llm_evaluation.ipynb\" target=\"_parent\"><img src=\"https://colab.research.google.com/assets/colab-badge.svg\" alt=\"Open In Colab\"/></a>"
      ]
    },
    {
      "cell_type": "markdown",
      "source": [
        "# **LLM Evaluation**"
      ],
      "metadata": {
        "id": "5NgsyFB7RIf0"
      }
    },
    {
      "cell_type": "markdown",
      "source": [
        "**Blogposts**\n",
        "\n",
        "* https://cloud.google.com/blog/products/ai-machine-learning/evaluating-large-language-models-in-business?hl=en\n",
        "\n",
        "* https://cloud.google.com/blog/products/ai-machine-learning/enhancing-llm-quality-and-interpretability-with-the-vertex-gen-ai-evaluation-service/?hl=en\n",
        "\n",
        "* https://medium.com/google-cloud/vqa-3-how-to-evaluate-generated-answers-from-rag-at-scale-on-vertex-ai-70bc397cb33d\n",
        "\n"
      ],
      "metadata": {
        "id": "6vL7kN2bQ737"
      }
    },
    {
      "cell_type": "markdown",
      "source": [
        "**Technical Documentation**\n",
        "\n",
        "* Notebooks: https://github.com/GoogleCloudPlatform/generative-ai/tree/main/gemini/evaluation\n",
        "\n",
        "* https://cloud.google.com/vertex-ai/generative-ai/docs/models/evaluation-overview\n",
        "\n",
        "  * https://cloud.google.com/vertex-ai/generative-ai/docs/models/side-by-side-eval\n",
        "\n",
        "  * https://cloud.google.com/vertex-ai/generative-ai/docs/models/computation-based-eval-pipeline"
      ],
      "metadata": {
        "id": "mLRHpFbkQ-Mr"
      }
    }
  ]
}